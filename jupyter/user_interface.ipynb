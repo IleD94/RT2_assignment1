{
 "cells": [
  {
   "cell_type": "markdown",
   "id": "7b0c99fc",
   "metadata": {},
   "source": [
    "# Second assignment of RT2 course"
   ]
  },
  {
   "cell_type": "markdown",
   "id": "bd9330b8",
   "metadata": {},
   "source": [
    "## User interface\n",
    "\n",
    "### What does it do?\n",
    "It is a node of the package rt2_assignment1. Thanks to the user interface the user can interact with a simulation of a robot in Gazebo environment. The robot can be driven o activate to reach different random point on the plane. Moreover, using the Jupyter Notebook's functionalities and the library matplotlib, we can also produce four different graphics about trajectory, time, velocity and goal reached, during the task. \n",
    "\n",
    "### The architecture of the rt2_assignment1 package\n",
    "\n",
    "In this package there are other three nodes besides the user_interface:\n",
    "1. Go_to_point\n",
    "2. state_machine\n",
    "3. random_position\n"
   ]
  },
  {
   "cell_type": "markdown",
   "id": "f28fa79e",
   "metadata": {},
   "source": [
    "## How to run the code?\n",
    "\n",
    "Follow the steps below to run the code:\n",
    "\n",
    "1. Launch the gazebo simulation and the other three nodes typing in the bash:\n",
    "\n",
    "  `roslaunch rt2_assignment1 sim.launch` *\n",
    "  \n",
    "2. Then run the user_interface on Jupyter Notebooks, typing in the bash:\n",
    "\n",
    "  `jupyter notebook --allow-root`\n",
    "  \n",
    "*this launch file contains also another file **user_interface.py** that allows to start and stop the robot using the bash. It was not deleted just because it does not go into conflict with this node. We recommend not to use this possibility, but the user_interface implemented here below to have a full experience of driving."
   ]
  },
  {
   "cell_type": "markdown",
   "id": "7f46f595",
   "metadata": {},
   "source": [
    "Below you can find many different libraries and global variables used in the following code. "
   ]
  },
  {
   "cell_type": "code",
   "execution_count": 1,
   "id": "cb965dda",
   "metadata": {
    "ExecuteTime": {
     "end_time": "2021-09-14T17:19:14.232326Z",
     "start_time": "2021-09-14T17:19:13.400925Z"
    }
   },
   "outputs": [],
   "source": [
    "%matplotlib widget\n",
    "import numpy as np\n",
    "import matplotlib.pyplot as plt\n",
    "import jupyros as jr\n",
    "import rospy\n",
    "import actionlib\n",
    "import actionlib.msg\n",
    "from actionlib_msgs.msg import GoalID\n",
    "import rt2_assignment1.msg\n",
    "from nav_msgs.msg import Odometry\n",
    "from rt2_assignment1.srv import Command\n",
    "from matplotlib import animation, rc\n",
    "from geometry_msgs.msg import Twist\n",
    "import ipywidgets as widgets\n",
    "import time\n",
    "import numpy as np"
   ]
  },
  {
   "cell_type": "code",
   "execution_count": 2,
   "id": "6c54f902",
   "metadata": {
    "ExecuteTime": {
     "end_time": "2021-09-14T17:19:14.403182Z",
     "start_time": "2021-09-14T17:19:14.235013Z"
    }
   },
   "outputs": [],
   "source": [
    "from IPython.display import display\n",
    "action=False\n",
    "cancelled=0\n",
    "achieved=0\n",
    "departure=0\n",
    "arrival=0\n",
    "travel_time=0\n",
    "Time = []\n",
    "stop = False \n",
    "rospy.init_node('user_interface')\n",
    "ac = actionlib.SimpleActionClient('/reaching_goal', rt2_assignment1.msg.PlanningAction)\n",
    "ui_client = rospy.ServiceProxy('/user_interface', Command)\n",
    "pub = rospy.Publisher('cmd_vel', Twist, queue_size=10)\n",
    "msg = Twist()"
   ]
  },
  {
   "cell_type": "markdown",
   "id": "eec1d400",
   "metadata": {},
   "source": [
    "## Start and stop the reaching of random goal behavior\n",
    "\n",
    "This part of the user_interface uses two buttons, one to start and one to stop, the robot during its random behavior. To obtain this result we use the server service /user_interface, that sends the appropriate command, a string, based on the will of the user to start or stop the robot. The buttons uses the method on_click, in this way whenever the button is pressed we have the execution of the code inside the callback **on_botton_clicked1 (or on_botton clicked2)**."
   ]
  },
  {
   "cell_type": "code",
   "execution_count": 3,
   "id": "6a6c9bae",
   "metadata": {
    "ExecuteTime": {
     "end_time": "2021-09-14T17:19:14.446623Z",
     "start_time": "2021-09-14T17:19:14.408760Z"
    }
   },
   "outputs": [
    {
     "data": {
      "application/vnd.jupyter.widget-view+json": {
       "model_id": "f9ace4e83e404f41bec30729e365cab8",
       "version_major": 2,
       "version_minor": 0
      },
      "text/plain": [
       "Button(description='Start!', style=ButtonStyle())"
      ]
     },
     "metadata": {},
     "output_type": "display_data"
    },
    {
     "data": {
      "application/vnd.jupyter.widget-view+json": {
       "model_id": "68b2e5a4ba214f3f81bcedbd07ff985e",
       "version_major": 2,
       "version_minor": 0
      },
      "text/plain": [
       "Output()"
      ]
     },
     "metadata": {},
     "output_type": "display_data"
    },
    {
     "data": {
      "application/vnd.jupyter.widget-view+json": {
       "model_id": "e279dbfe3ec642799a00c369c308c5b5",
       "version_major": 2,
       "version_minor": 0
      },
      "text/plain": [
       "Button(description='Stop!', style=ButtonStyle())"
      ]
     },
     "metadata": {},
     "output_type": "display_data"
    },
    {
     "data": {
      "application/vnd.jupyter.widget-view+json": {
       "model_id": "fc4abe8ffff44b15993d7f6a00ad8fcf",
       "version_major": 2,
       "version_minor": 0
      },
      "text/plain": [
       "Output()"
      ]
     },
     "metadata": {},
     "output_type": "display_data"
    }
   ],
   "source": [
    "button1 = widgets.Button(description=\"Start!\")\n",
    "output1 = widgets.Output()\n",
    "button2 = widgets.Button(description=\"Stop!\")\n",
    "output2 = widgets.Output()\n",
    "display(button1, output1)\n",
    "display(button2, output2)\n",
    "\n",
    "#handle changes, the observe method of the widget can be used to register a callback.\n",
    "def on_button_clicked1(b):\n",
    "    global action,achieved, travel_time, departure, arrival\n",
    "    with output1:\n",
    "        action = True\n",
    "        departure = time.time()\n",
    "        ui_client(\"start\")\n",
    "        stop = False\n",
    "button1.on_click(on_button_clicked1) #ogni volta che viene cliccato viene eseguita questa callback\n",
    "\n",
    "def on_button_clicked2(b):\n",
    "    global action,cancelled\n",
    "    with output2:\n",
    "        action = True\n",
    "        ui_client(\"stop\")\n",
    "        cancelled=cancelled+1\n",
    "        stop = True\n",
    "button2.on_click(on_button_clicked2)\n"
   ]
  },
  {
   "cell_type": "markdown",
   "id": "433003ec",
   "metadata": {},
   "source": [
    "Here below we subscribe to the **/reaching_goal/result** topic. In this way we can be aware of the result of the action, so if the robot has reached the goal."
   ]
  },
  {
   "cell_type": "code",
   "execution_count": 4,
   "id": "a6e2dfcd",
   "metadata": {
    "ExecuteTime": {
     "end_time": "2021-09-14T17:19:14.471860Z",
     "start_time": "2021-09-14T17:19:14.448617Z"
    }
   },
   "outputs": [
    {
     "data": {
      "application/vnd.jupyter.widget-view+json": {
       "model_id": "4d5f1b24fd3d483b989590759751d209",
       "version_major": 2,
       "version_minor": 0
      },
      "text/plain": [
       "VBox(children=(HBox(children=(Button(description='Stop', style=ButtonStyle()),)), Output(layout=Layout(border=…"
      ]
     },
     "metadata": {},
     "output_type": "display_data"
    }
   ],
   "source": [
    "def result_callback(result):\n",
    "    global achieved, travel_time, departure, arrival, Time\n",
    "    arrival = time.time()\n",
    "    travel_time = arrival-departure\n",
    "    Time.append(travel_time)\n",
    "    achieved=achieved+1  \n",
    "    if not stop:\n",
    "        departure = time.time()  \n",
    "    \n",
    "jr.subscribe ('/reaching_goal/result',rt2_assignment1.msg.PlanningAction,result_callback)"
   ]
  },
  {
   "cell_type": "markdown",
   "id": "c6f175c7",
   "metadata": {},
   "source": [
    "## Drive the robot using the sliders\n",
    "\n",
    "Here below the robot stops its random behavior, to do that we need to cancel the goal, and the user can drive it using two sliders: one for the linear velocity and the other one for the angular velocity. Anytime a slider is used the method observe, execute the specific callback to stop the action (if it is necessary) and set the velocity that get from the slider. "
   ]
  },
  {
   "cell_type": "code",
   "execution_count": 5,
   "id": "cbaae2cc",
   "metadata": {
    "ExecuteTime": {
     "end_time": "2021-09-14T17:19:14.492906Z",
     "start_time": "2021-09-14T17:19:14.474167Z"
    }
   },
   "outputs": [
    {
     "data": {
      "application/vnd.jupyter.widget-view+json": {
       "model_id": "2b604a1444e843a3bab6916c658b1fbf",
       "version_major": 2,
       "version_minor": 0
      },
      "text/plain": [
       "FloatSlider(value=0.0, description='lin_vel x', max=0.5, min=-0.5)"
      ]
     },
     "metadata": {},
     "output_type": "display_data"
    },
    {
     "data": {
      "application/vnd.jupyter.widget-view+json": {
       "model_id": "77be0eeb16d64f14bd91da0bf20d50d9",
       "version_major": 2,
       "version_minor": 0
      },
      "text/plain": [
       "FloatSlider(value=0.0, description='ang_vel z', max=0.5, min=-0.5)"
      ]
     },
     "metadata": {},
     "output_type": "display_data"
    }
   ],
   "source": [
    "a = widgets.FloatSlider(description='lin_vel x',min=-0.5, max=0.5)\n",
    "display(a)\n",
    "\n",
    "b = widgets.FloatSlider(description='ang_vel z', min=-0.5, max=0.5)\n",
    "display(b)\n",
    "\n",
    "def on_value_change(change):\n",
    "    global msg\n",
    "    stop_action ()\n",
    "    msg.linear.x = change['new']\n",
    "    pub.publish(msg)\n",
    "def on_valueang_change(change):\n",
    "    global msg\n",
    "    stop_action ()\n",
    "    msg.angular.z = change['new']\n",
    "    pub.publish(msg)\n",
    "\n",
    "a.observe(on_value_change, names='value')\n",
    "b.observe(on_valueang_change, names='value')"
   ]
  },
  {
   "cell_type": "markdown",
   "id": "86654f1a",
   "metadata": {},
   "source": [
    "this function is called whenever the we need to switch from the random behavior to the driven one."
   ]
  },
  {
   "cell_type": "code",
   "execution_count": 6,
   "id": "33c2b0e7",
   "metadata": {
    "ExecuteTime": {
     "end_time": "2021-09-14T17:19:14.498766Z",
     "start_time": "2021-09-14T17:19:14.495092Z"
    }
   },
   "outputs": [],
   "source": [
    "def stop_action ():\n",
    "    global action,cancelled,stop\n",
    "    if action:\n",
    "        action = False\n",
    "        ac.cancel_all_goals();\n",
    "        cancelled=cancelled+1\n",
    "        stop = False;"
   ]
  },
  {
   "cell_type": "markdown",
   "id": "777a3db9",
   "metadata": {},
   "source": [
    "## Fully control of the robot using five buttons \n",
    "\n",
    "Here below the robot can be controlled using 5 buttons: Go ahead, Turn left, Turn right, Go back, and Stop. For security reason the author of this project decided to place the stop button slightly distant from the others to avoid accidental stops. To control the robot we fill the field of the Twist message linear.x and angular.z and publish the msg in **cmd_vel** topic."
   ]
  },
  {
   "cell_type": "code",
   "execution_count": 7,
   "id": "d006363f",
   "metadata": {
    "ExecuteTime": {
     "end_time": "2021-09-14T17:19:14.572689Z",
     "start_time": "2021-09-14T17:19:14.501111Z"
    }
   },
   "outputs": [
    {
     "data": {
      "application/vnd.jupyter.widget-view+json": {
       "model_id": "03370f17dde14b24be1fa993ced931d5",
       "version_major": 2,
       "version_minor": 0
      },
      "text/plain": [
       "GridBox(children=(Button(description='Go ahead', layout=Layout(grid_area='b1', width='auto'), style=ButtonStyl…"
      ]
     },
     "metadata": {},
     "output_type": "display_data"
    }
   ],
   "source": [
    "from ipywidgets import Button, Layout, ButtonStyle, GridBox, VBox, HBox\n",
    "b1 = Button(description='Go ahead',\n",
    "layout=Layout(width='auto', align=\"center\", grid_area='b1'),\n",
    "style=ButtonStyle(button_color='silver'))\n",
    "b2 = Button(description='Turn left',\n",
    "layout=Layout(width='auto', grid_area='b2'),\n",
    "style=ButtonStyle(button_color='silver'))\n",
    "b3 = Button(description='Turn right',\n",
    "layout=Layout(width='auto', grid_area='b3'),\n",
    "style=ButtonStyle(button_color='silver'))\n",
    "b4 = Button(description='Go back',\n",
    "layout=Layout(width='auto', grid_area='b4'),\n",
    "style=ButtonStyle(button_color='silver'))\n",
    "b5 = Button(description='STOP!',\n",
    "layout=Layout(width='auto', grid_area='b5'),\n",
    "style=ButtonStyle(button_color='red'))\n",
    "output1 = widgets.Output()\n",
    "output2 = widgets.Output()\n",
    "output3 = widgets.Output()\n",
    "output4 = widgets.Output()\n",
    "output5 = widgets.Output()\n",
    "\n",
    "def on_button_clicked1(b1):\n",
    "    with output1:\n",
    "        global msg\n",
    "        stop_action ()\n",
    "        msg.linear.x = 0.5\n",
    "        msg.angular.z = 0\n",
    "        pub.publish(msg)\n",
    "b1.on_click(on_button_clicked1)\n",
    "\n",
    "def on_button_clicked2(b2):\n",
    "    with output2:\n",
    "        global msg\n",
    "        stop_action ()\n",
    "        msg.angular.z = -0.5\n",
    "        msg.linear.x = 0\n",
    "        pub.publish(msg)\n",
    "b2.on_click(on_button_clicked2)\n",
    "\n",
    "def on_button_clicked3(b3):\n",
    "    with output3:\n",
    "        global msg\n",
    "        stop_action ()\n",
    "        msg.angular.z = 0.5\n",
    "        msg.linear.x = 0\n",
    "        pub.publish(msg)\n",
    "b3.on_click(on_button_clicked3)\n",
    "\n",
    "def on_button_clicked4(b4):\n",
    "    with output4:\n",
    "        global msg\n",
    "        stop_action ()\n",
    "        msg.angular.z = 0\n",
    "        msg.linear.x = -0.5\n",
    "        pub.publish(msg)\n",
    "b4.on_click(on_button_clicked4)\n",
    "\n",
    "def on_button_clicked5(b5):\n",
    "    with output5:\n",
    "        global msg\n",
    "        stop_action ()\n",
    "        msg.angular.z = 0\n",
    "        msg.linear.x = 0\n",
    "        pub.publish(msg)\n",
    "b5.on_click(on_button_clicked5)\n",
    "\n",
    "GridBox(children=[b1, b2, b3, b4, b5],\n",
    "layout=Layout(\n",
    "width='100%',\n",
    "grid_template_rows='auto auto',\n",
    "grid_template_columns='20% 20% 20% 20% 20%',\n",
    "grid_template_areas='''\n",
    "\" . b1 .  . b5\"\n",
    "\"b2 b4 b3 . .\"\n",
    "''')\n",
    ")"
   ]
  },
  {
   "cell_type": "markdown",
   "id": "68bf5d64",
   "metadata": {},
   "source": [
    "## Bar plot of cancelled and achieved goals \n",
    "\n",
    "In order to show the graph it is necessary anytime to run the specific cell, otherwise it is not updated. We used two variables to take into account the number of reached goal and the cancelled ones. Whenever the callback result_callback is executed, that is just when the action server set the result as true, the variable **achieved** is increases by one, the specular same thing happens for the **cancelled** variable, which increases its value anytime the goal is deleted."
   ]
  },
  {
   "cell_type": "code",
   "execution_count": 8,
   "id": "79870621",
   "metadata": {
    "ExecuteTime": {
     "end_time": "2021-09-14T17:19:14.627204Z",
     "start_time": "2021-09-14T17:19:14.576194Z"
    },
    "scrolled": true
   },
   "outputs": [
    {
     "data": {
      "application/vnd.jupyter.widget-view+json": {
       "model_id": "ae64ffac89e94ab1a8144bbad7c60fe5",
       "version_major": 2,
       "version_minor": 0
      },
      "text/plain": [
       "Canvas(toolbar=Toolbar(toolitems=[('Home', 'Reset original view', 'home', 'home'), ('Back', 'Back to previous …"
      ]
     },
     "metadata": {},
     "output_type": "display_data"
    },
    {
     "data": {
      "text/plain": [
       "Text(0.5, 1.0, 'Goals: cancelled vs achieved')"
      ]
     },
     "execution_count": 8,
     "metadata": {},
     "output_type": "execute_result"
    }
   ],
   "source": [
    "global cancelled, achieved\n",
    "x = ['cancelled','achieved']\n",
    "height = [cancelled, achieved]\n",
    "fig3, ax3 = plt.subplots()\n",
    "plt.bar(x, height, width=.5, bottom=None, align='center', color= 'orange')\n",
    "plt.title ('Goals: cancelled vs achieved')"
   ]
  },
  {
   "cell_type": "markdown",
   "id": "97de9526",
   "metadata": {},
   "source": [
    "## Histogram of the travel time: from the start point to the goal\n",
    "\n",
    "This is a graph that shows the travel time of the robot, that is how reaching a goal takes to the robot. We collected this important data using the time method inside the previous function **result_callback** and the callback of the button start **on_button_clicked1**, which start the timer.\n",
    "To show the plot click on Run for this specific cell, it will be updated at every click"
   ]
  },
  {
   "cell_type": "code",
   "execution_count": 9,
   "id": "9e67e3f7",
   "metadata": {
    "ExecuteTime": {
     "end_time": "2021-09-14T17:19:14.692203Z",
     "start_time": "2021-09-14T17:19:14.631638Z"
    }
   },
   "outputs": [
    {
     "name": "stdout",
     "output_type": "stream",
     "text": [
      "0\n"
     ]
    },
    {
     "data": {
      "application/vnd.jupyter.widget-view+json": {
       "model_id": "b2a8a299ba794f65aeb62d286761fd79",
       "version_major": 2,
       "version_minor": 0
      },
      "text/plain": [
       "Canvas(toolbar=Toolbar(toolitems=[('Home', 'Reset original view', 'home', 'home'), ('Back', 'Back to previous …"
      ]
     },
     "metadata": {},
     "output_type": "display_data"
    },
    {
     "data": {
      "text/plain": [
       "Text(0.5, 1.0, 'histogram of travel time')"
      ]
     },
     "execution_count": 9,
     "metadata": {},
     "output_type": "execute_result"
    }
   ],
   "source": [
    "global travel_time, Time\n",
    "print (travel_time)\n",
    "\n",
    "fig4, ax4 = plt.subplots()\n",
    "ax4.hist(Time, histtype='bar', fill=False)\n",
    "#ax4.legend(prop={'size': 10})\n",
    "ax4.set_title('histogram of travel time')"
   ]
  },
  {
   "cell_type": "markdown",
   "id": "276cf9bf",
   "metadata": {},
   "source": [
    "## Position of the robot on plane XY during its task\n",
    "\n",
    "Here below we have a graph that is live updated. It shows the position of the robot in the plane xy during the task. To show the graph we need to run the cell where we subscribe to **/odom** and the one below that, where we call the **FuncAnimation** method."
   ]
  },
  {
   "cell_type": "code",
   "execution_count": 10,
   "id": "b1bfdf16",
   "metadata": {
    "ExecuteTime": {
     "end_time": "2021-09-14T17:19:14.733318Z",
     "start_time": "2021-09-14T17:19:14.695174Z"
    }
   },
   "outputs": [
    {
     "data": {
      "application/vnd.jupyter.widget-view+json": {
       "model_id": "bd70ed73415244258df51f4522b53a30",
       "version_major": 2,
       "version_minor": 0
      },
      "text/plain": [
       "Canvas(toolbar=Toolbar(toolitems=[('Home', 'Reset original view', 'home', 'home'), ('Back', 'Back to previous …"
      ]
     },
     "metadata": {},
     "output_type": "display_data"
    },
    {
     "data": {
      "text/plain": [
       "Text(0.5, 1.0, 'Position on plane xy')"
      ]
     },
     "execution_count": 10,
     "metadata": {},
     "output_type": "execute_result"
    }
   ],
   "source": [
    "fig, ax = plt.subplots()\n",
    "\n",
    "ax.set_xlim(( -10, 10))\n",
    "ax.set_ylim((-10, 10))\n",
    "\n",
    "line, = ax.plot([], [], color='b')\n",
    "x_data=[]\n",
    "y_data=[]\n",
    "ax.set_xlabel('position x') \n",
    "ax.set_ylabel('position y')\n",
    "ax.set_title(\"Position on plane xy\")"
   ]
  },
  {
   "cell_type": "code",
   "execution_count": 11,
   "id": "7cc8d7dd",
   "metadata": {
    "ExecuteTime": {
     "end_time": "2021-09-14T17:19:14.769936Z",
     "start_time": "2021-09-14T17:19:14.736054Z"
    }
   },
   "outputs": [
    {
     "data": {
      "application/vnd.jupyter.widget-view+json": {
       "model_id": "1682fbfd653c4d38afdbd41c5c84d97c",
       "version_major": 2,
       "version_minor": 0
      },
      "text/plain": [
       "VBox(children=(HBox(children=(Button(description='Stop', style=ButtonStyle()),)), Output(layout=Layout(border=…"
      ]
     },
     "metadata": {},
     "output_type": "display_data"
    }
   ],
   "source": [
    "def init():\n",
    "    line.set_data([], [])\n",
    "    return (line)\n",
    "\n",
    "\n",
    "def odom_callback(msg):\n",
    "    y_data.append(msg.pose.pose.position.y)\n",
    "    x_data.append(msg.pose.pose.position.x)\n",
    "\n",
    "\n",
    "def animate(i):\n",
    "    line.set_data(x_data, y_data)\n",
    "    return (line)\n",
    "\n",
    "\n",
    "jr.subscribe('/odom', Odometry, odom_callback)\n"
   ]
  },
  {
   "cell_type": "code",
   "execution_count": 12,
   "id": "23f921c0",
   "metadata": {
    "ExecuteTime": {
     "end_time": "2021-09-14T17:19:14.778791Z",
     "start_time": "2021-09-14T17:19:14.774143Z"
    }
   },
   "outputs": [],
   "source": [
    "anim = animation.FuncAnimation(fig, animate, init_func=init,\n",
    "                               frames=100, interval=20, blit=True)"
   ]
  },
  {
   "cell_type": "markdown",
   "id": "a73fc0d6",
   "metadata": {},
   "source": [
    "## Line Plot: cmd_vel vs actual velocity\n",
    "\n",
    "In this last cells we implemented a plot that confronts the linear and angular velocities from two different point of view, the linear and angular in the **/cmd_vel** topic and the actual linear and angular velocity in **/odom** topic.\n",
    "This graph is updated continuously. Please consider that it needs two subscriptions (in two different cells) to two different topics for two fields each one, for this reason it can be a little bit unreliable. Due to that, sometimes could be necessary to restart the following cells clicking on run for each cell."
   ]
  },
  {
   "cell_type": "code",
   "execution_count": 13,
   "id": "39f69841",
   "metadata": {
    "ExecuteTime": {
     "end_time": "2021-09-14T17:19:14.840999Z",
     "start_time": "2021-09-14T17:19:14.781131Z"
    }
   },
   "outputs": [
    {
     "data": {
      "application/vnd.jupyter.widget-view+json": {
       "model_id": "4f29738c818249c09e9dfdb0b6fbed61",
       "version_major": 2,
       "version_minor": 0
      },
      "text/plain": [
       "Canvas(toolbar=Toolbar(toolitems=[('Home', 'Reset original view', 'home', 'home'), ('Back', 'Back to previous …"
      ]
     },
     "metadata": {},
     "output_type": "display_data"
    }
   ],
   "source": [
    "start = time.time() #start a timer \n",
    "time1 = list(range(0, 10))\n",
    "fig1, ax1 = plt.subplots()\n",
    "line1, = ax1.plot([], [], color='k', label='/odom')\n",
    "line2, = ax1.plot([], [], color='r', label='/cmd_vel')\n",
    "line3, = ax1.plot([], [], color='b', label='/odom angular')\n",
    "line4, = ax1.plot([], [], color='y', label='/cmd_vel angular')\n",
    "ax1.set_xlabel('time (s)') \n",
    "ax1.set_ylabel('velocity m/s')\n",
    "ax1.set_title(\"cmd_vel vs actual velocity\")\n",
    "plt.legend(loc='lower left')\n",
    "y_data1=[]\n",
    "y_data2=[]\n",
    "y_data3=[]\n",
    "y_data4=[]"
   ]
  },
  {
   "cell_type": "code",
   "execution_count": 14,
   "id": "19eb686b",
   "metadata": {
    "ExecuteTime": {
     "end_time": "2021-09-14T17:19:14.885912Z",
     "start_time": "2021-09-14T17:19:14.844386Z"
    }
   },
   "outputs": [
    {
     "name": "stderr",
     "output_type": "stream",
     "text": [
      "Removing previous callback, only one redirection possible right now\n"
     ]
    },
    {
     "data": {
      "application/vnd.jupyter.widget-view+json": {
       "model_id": "f4192f4d42f94d53b184a515ace57d4a",
       "version_major": 2,
       "version_minor": 0
      },
      "text/plain": [
       "VBox(children=(HBox(children=(Button(description='Stop', style=ButtonStyle()),)), Output(layout=Layout(border=…"
      ]
     },
     "metadata": {},
     "output_type": "display_data"
    }
   ],
   "source": [
    "def init1():\n",
    "    line1.set_data([], [])\n",
    "    line2.set_data([],[])\n",
    "    line3.set_data([], [])\n",
    "    line4.set_data([],[])\n",
    "    return [line1, line2, line3, line4]\n",
    "\n",
    "\n",
    "def odom_callback(msg):\n",
    "    if len(time1)>10:\n",
    "        time1.pop(0)\n",
    "     \n",
    "    if len(y_data1)>10:\n",
    "        y_data1.pop(0)\n",
    "    if len(y_data3)>10:\n",
    "        y_data3.pop(0)\n",
    "    y_data1.append(msg.twist.twist.linear.x)\n",
    "    y_data3.append(msg.twist.twist.angular.x)\n",
    "    time1.append(time.time()-start)\n",
    "\n",
    "jr.subscribe('/odom', Odometry, odom_callback)"
   ]
  },
  {
   "cell_type": "code",
   "execution_count": 15,
   "id": "80ecfbc2",
   "metadata": {
    "ExecuteTime": {
     "end_time": "2021-09-14T17:19:14.930019Z",
     "start_time": "2021-09-14T17:19:14.888536Z"
    }
   },
   "outputs": [
    {
     "data": {
      "application/vnd.jupyter.widget-view+json": {
       "model_id": "dfa48a029581449582e4ade0fdd64bce",
       "version_major": 2,
       "version_minor": 0
      },
      "text/plain": [
       "VBox(children=(HBox(children=(Button(description='Stop', style=ButtonStyle()),)), Output(layout=Layout(border=…"
      ]
     },
     "metadata": {},
     "output_type": "display_data"
    }
   ],
   "source": [
    "def cmd_vel_callback(msg):\n",
    "    \n",
    "    if len(y_data2)>10:\n",
    "        y_data2.pop(0)\n",
    "    if len(y_data4)>10:\n",
    "        y_data4.pop(0)\n",
    "    y_data2.append(msg.linear.x)\n",
    "    y_data4.append(msg.angular.z)\n",
    "\n",
    "jr.subscribe('/cmd_vel', Twist, cmd_vel_callback)\n"
   ]
  },
  {
   "cell_type": "code",
   "execution_count": 16,
   "id": "a746826c",
   "metadata": {
    "ExecuteTime": {
     "end_time": "2021-09-14T17:19:14.942577Z",
     "start_time": "2021-09-14T17:19:14.932764Z"
    }
   },
   "outputs": [],
   "source": [
    "def animate1(i):\n",
    "    line1.set_data(time1, y_data1)\n",
    "    line2.set_data(time1, y_data2)\n",
    "    line3.set_data(time1, y_data3)\n",
    "    line4.set_data(time1, y_data4)\n",
    "    ax1.axis([time1[0]-0.2,time1[9]+0.2,-0.5,0.5])   \n",
    "    return [line1,line2, line3, line4]\n",
    "anim = animation.FuncAnimation(fig1, animate1, init_func=init1,\n",
    "                               frames=100, interval=20, blit=True)"
   ]
  },
  {
   "cell_type": "markdown",
   "id": "c0b0f823",
   "metadata": {},
   "source": [
    "## Future improvements\n",
    "\n",
    "In the future, an important upgrade will be showing also the orientation of the robot in the graph of the position in the plane XY and try to avoid possible conflicts between the many subscriptions, for example in the graph cmd_vel vs actual velocity."
   ]
  },
  {
   "cell_type": "code",
   "execution_count": null,
   "id": "4baedd30",
   "metadata": {},
   "outputs": [],
   "source": []
  }
 ],
 "metadata": {
  "hide_input": false,
  "kernelspec": {
   "display_name": "Python 3 (ipykernel)",
   "language": "python",
   "name": "python3"
  },
  "language_info": {
   "codemirror_mode": {
    "name": "ipython",
    "version": 3
   },
   "file_extension": ".py",
   "mimetype": "text/x-python",
   "name": "python",
   "nbconvert_exporter": "python",
   "pygments_lexer": "ipython3",
   "version": "3.8.5"
  },
  "toc": {
   "base_numbering": 1,
   "nav_menu": {},
   "number_sections": true,
   "sideBar": true,
   "skip_h1_title": false,
   "title_cell": "Table of Contents",
   "title_sidebar": "Contents",
   "toc_cell": false,
   "toc_position": {},
   "toc_section_display": true,
   "toc_window_display": false
  },
  "varInspector": {
   "cols": {
    "lenName": 16,
    "lenType": 16,
    "lenVar": 40
   },
   "kernels_config": {
    "python": {
     "delete_cmd_postfix": "",
     "delete_cmd_prefix": "del ",
     "library": "var_list.py",
     "varRefreshCmd": "print(var_dic_list())"
    },
    "r": {
     "delete_cmd_postfix": ") ",
     "delete_cmd_prefix": "rm(",
     "library": "var_list.r",
     "varRefreshCmd": "cat(var_dic_list()) "
    }
   },
   "types_to_exclude": [
    "module",
    "function",
    "builtin_function_or_method",
    "instance",
    "_Feature"
   ],
   "window_display": false
  }
 },
 "nbformat": 4,
 "nbformat_minor": 5
}
